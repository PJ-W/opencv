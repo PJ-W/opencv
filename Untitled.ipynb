{
 "cells": [
  {
   "cell_type": "code",
   "execution_count": null,
   "metadata": {},
   "outputs": [],
   "source": [
    "import cv2\n",
    "\n",
    "img = cv2.imread('lena.jpg', 1)"
   ]
  },
  {
   "cell_type": "code",
   "execution_count": 3,
   "metadata": {},
   "outputs": [
    {
     "name": "stdout",
     "output_type": "stream",
     "text": [
      "[[163 162 161 ... 170 154 130]\n",
      " [162 162 162 ... 173 155 126]\n",
      " [162 162 163 ... 170 155 128]\n",
      " ...\n",
      " [ 43  42  51 ... 103 101  99]\n",
      " [ 41  42  55 ... 103 105 106]\n",
      " [ 42  44  57 ... 102 106 109]]\n"
     ]
    }
   ],
   "source": [
    "print(img)"
   ]
  },
  {
   "cell_type": "code",
   "execution_count": null,
   "metadata": {},
   "outputs": [],
   "source": [
    "cv2.imshow('image', img)\n",
    "cv2.waitKey(0)\n",
    "cv2.destroyAllWindows()"
   ]
  },
  {
   "cell_type": "code",
   "execution_count": null,
   "metadata": {},
   "outputs": [],
   "source": [
    "def nothing(x):\n",
    "    pass\n",
    "\n",
    "cv2.namedWindow('tracking')\n",
    "cv2.createTrackbar('LH', 'tracking', 0, 255, nothing())\n",
    "cv2.createTrackbar('LS', 'tracking', 0, 255, nothing())\n",
    "cv2.createTrackbar('LV', 'tracking', 0, 255, nothing())\n",
    "cv2.createTrackbar('UH', 'tracking', 255, 255, nothing())\n",
    "cv2.createTrackbar('US', 'tracking', 255, 255, nothing())\n",
    "cv2.createTrackbar('UV', 'tracking', 255, 255, nothing())\n",
    "\n",
    "frame = cv2.imread('smarties.png')\n",
    "\n",
    "hsv = cv2.cvtColor(frame , cv2.COLOR_BGR2HSV)\n",
    "\n",
    "l_h = cv2.getTrackbarPos('LH', 'tracking')\n",
    "l_s = cv2.getTrackbarPos('LS', 'tracking')\n",
    "l_v = cv2.getTrackbarPos('LV', 'tracking')\n",
    "u_h = cv2.getTrackbarPos('UH', 'tracking')\n",
    "u_s = cv2.getTrackbarPos('US', 'tracking')\n",
    "u_v = cv2.getTrackbarPos('UV', 'tracking')\n",
    "\n",
    "l_b = np.array([l_h, l_s, l_V])\n",
    "u_b = np.array([u_h, u_s, u_v])\n",
    "\n",
    "mask = cv2.inRange(hsv, l_b, u_b)\n",
    "\n",
    "res = cv2.bitwise_and(frame, frame, mask=mask)\n",
    "\n",
    "cv2.imshow('frame', frame)\n",
    "cv2.imshow('frame', res)\n",
    "cv2.imshow('frame',mask)"
   ]
  }
 ],
 "metadata": {
  "kernelspec": {
   "display_name": "Python 3",
   "language": "python",
   "name": "python3"
  },
  "language_info": {
   "codemirror_mode": {
    "name": "ipython",
    "version": 3
   },
   "file_extension": ".py",
   "mimetype": "text/x-python",
   "name": "python",
   "nbconvert_exporter": "python",
   "pygments_lexer": "ipython3",
   "version": "3.7.3"
  }
 },
 "nbformat": 4,
 "nbformat_minor": 2
}
